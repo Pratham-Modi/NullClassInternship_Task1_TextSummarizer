{
 "cells": [
  {
   "cell_type": "markdown",
   "id": "6c5e98bd",
   "metadata": {},
   "source": [
    "# 📌 Task 1 – Extractive Text Summarization with TextRank and Stopword Removal\n",
    "\n",
    "This notebook demonstrates extractive summarization using TF-IDF vectorization and cosine similarity. The goal is to automatically generate concise summaries by selecting the most relevant sentences from a given text."
   ]
  },
  {
   "cell_type": "code",
   "execution_count": 24,
   "id": "ed57461b",
   "metadata": {},
   "outputs": [
    {
     "name": "stderr",
     "output_type": "stream",
     "text": [
      "[nltk_data] Downloading package punkt to C:\\Users\\Pratham\n",
      "[nltk_data]     Modi\\AppData\\Roaming\\nltk_data...\n",
      "[nltk_data]   Package punkt is already up-to-date!\n",
      "[nltk_data] Downloading package stopwords to C:\\Users\\Pratham\n",
      "[nltk_data]     Modi\\AppData\\Roaming\\nltk_data...\n",
      "[nltk_data]   Package stopwords is already up-to-date!\n"
     ]
    }
   ],
   "source": [
    "import nltk\n",
    "from sklearn.feature_extraction.text import TfidfVectorizer\n",
    "from sklearn.metrics.pairwise import cosine_similarity\n",
    "import numpy as np\n",
    "import re\n",
    "import joblib\n",
    "\n",
    "# Download required nltk data\n",
    "nltk.download('punkt')\n",
    "nltk.download('stopwords')\n",
    "\n",
    "from nltk.corpus import stopwords\n",
    "\n",
    "# Define improved summary function\n",
    "def generate_summary(text, num_sentences=4):\n",
    "    # Step 1: Tokenize into sentences\n",
    "    sentences = nltk.sent_tokenize(text)\n",
    "    \n",
    "    # Step 2: Clean sentences (remove non-alphanumeric chars)\n",
    "    clean_sentences = [re.sub(r'\\W+', ' ', sentence) for sentence in sentences]\n",
    "\n",
    "    # Step 3: Remove stopwords for TF-IDF input\n",
    "    stop_words = set(stopwords.words('english'))\n",
    "    processed_sentences = []\n",
    "    for sent in clean_sentences:\n",
    "        words = sent.lower().split()\n",
    "        filtered = [w for w in words if w not in stop_words]\n",
    "        processed_sentences.append(\" \".join(filtered))\n",
    "    \n",
    "    # Step 4: TF-IDF vectorization with tuned parameters\n",
    "    vectorizer = TfidfVectorizer(stop_words='english', ngram_range=(1,2), sublinear_tf=True)\n",
    "    tfidf_matrix = vectorizer.fit_transform(processed_sentences)\n",
    "    \n",
    "    # Step 5: Compute cosine similarity matrix between sentences\n",
    "    similarity_matrix = cosine_similarity(tfidf_matrix, tfidf_matrix)\n",
    "\n",
    "    # Step 6: Save vectorizer and matrix for reproducibility\n",
    "    joblib.dump(vectorizer, \"vectorizer.pkl\")\n",
    "    joblib.dump(tfidf_matrix, \"tfidf_matrix.pkl\")\n",
    "\n",
    "    # Step 7: Score sentences by sum of similarity to all others\n",
    "    scores = similarity_matrix.sum(axis=1)\n",
    "\n",
    "    # Step 8: Pick top N sentences with highest scores\n",
    "    top_indices = scores.argsort()[-num_sentences:][::-1]\n",
    "\n",
    "    # Step 9: Return selected sentences in original order for coherence\n",
    "    top_sentences = [sentences[i] for i in sorted(top_indices)]\n",
    "    return \" \".join(top_sentences)\n"
   ]
  },
  {
   "cell_type": "markdown",
   "id": "39b057aa",
   "metadata": {},
   "source": [
    "### Example 1 – Machine Learning"
   ]
  },
  {
   "cell_type": "code",
   "execution_count": 25,
   "id": "d0079113",
   "metadata": {},
   "outputs": [
    {
     "name": "stdout",
     "output_type": "stream",
     "text": [
      "Summary:\n",
      "\n",
      "Machine learning is a field of computer science that gives computers the ability to learn without being explicitly programmed. It has become a key technique for solving a wide range of problems in science and industry. Applications of machine learning are everywhere: in recommendation systems, spam filtering, image recognition, self-driving cars, and more. This has opened up entirely new possibilities in automation and artificial intelligence.\n"
     ]
    }
   ],
   "source": [
    "text = \"\"\"\n",
    "Machine learning is a field of computer science that gives computers the ability to learn without being explicitly programmed.\n",
    "It has become a key technique for solving a wide range of problems in science and industry.\n",
    "Applications of machine learning are everywhere: in recommendation systems, spam filtering, image recognition, self-driving cars, and more.\n",
    "Instead of writing code to solve a problem, you feed data into a generic algorithm, and it builds its own logic based on that data.\n",
    "This has opened up entirely new possibilities in automation and artificial intelligence.\n",
    "\"\"\"\n",
    "\n",
    "summary = generate_summary(text, num_sentences=4)\n",
    "print(\"Summary:\")\n",
    "print(summary)"
   ]
  },
  {
   "cell_type": "markdown",
   "id": "23089f26",
   "metadata": {},
   "source": [
    "### Example 2 – Technology and Society"
   ]
  },
  {
   "cell_type": "code",
   "execution_count": 17,
   "id": "8bc2c999",
   "metadata": {},
   "outputs": [
    {
     "name": "stdout",
     "output_type": "stream",
     "text": [
      "Summary:\n",
      "The rapid evolution of technology has dramatically reshaped modern society. From smartphones and cloud computing to artificial intelligence and biotechnology, technological innovations have revolutionized the way we communicate, work, and live. These advancements have improved global connectivity, increased productivity, and opened up new opportunities for innovation in every sector. However, they have also introduced challenges such as digital addiction, privacy concerns, and job displacement due to automation.\n"
     ]
    }
   ],
   "source": [
    "text = \"\"\"The rapid evolution of technology has dramatically reshaped modern society. From smartphones and cloud computing to artificial intelligence and biotechnology, technological innovations have revolutionized the way we communicate, work, and live. These advancements have improved global connectivity, increased productivity, and opened up new opportunities for innovation in every sector. However, they have also introduced challenges such as digital addiction, privacy concerns, and job displacement due to automation. As society becomes more reliant on technology, it becomes crucial to ensure that ethical considerations guide development and that access to these tools is equitable across different populations.\"\"\"\n",
    "\n",
    "summary = generate_summary(text, num_sentences=4)\n",
    "print(\"Summary:\")\n",
    "print(summary)"
   ]
  },
  {
   "cell_type": "markdown",
   "id": "dc082e87",
   "metadata": {},
   "source": [
    "### Example 3 – Space Exploration (Extended)"
   ]
  },
  {
   "cell_type": "code",
   "execution_count": 18,
   "id": "68b20b97",
   "metadata": {},
   "outputs": [
    {
     "name": "stdout",
     "output_type": "stream",
     "text": [
      "Summary:\n",
      "Space exploration has long fascinated humanity, offering the promise of discovery, innovation, and the quest to understand our place in the universe. In recent years, space missions have moved beyond governmental agencies. However, space exploration is not without its challenges—space debris, high mission costs, and the unknown effects of long-term space travel on human health remain significant concerns. Nonetheless, the pursuit of space exploration symbolizes hope, curiosity, and the unyielding human desire to reach for the stars.\n"
     ]
    }
   ],
   "source": [
    "text = \"\"\"Space exploration has long fascinated humanity, offering the promise of discovery, innovation, and the quest to understand our place in the universe. Since the launch of Sputnik 1 in 1957, the world has witnessed rapid advancements in aerospace technology. From the historic Apollo moon landings to the establishment of the International Space Station, humanity has continued to push the boundaries of what is possible. In recent years, space missions have moved beyond governmental agencies. Private companies like SpaceX, Blue Origin, and Rocket Lab are pioneering reusable rocket technology, drastically reducing the cost of launching satellites and paving the way for commercial space travel. These ventures have also inspired ambitious goals such as colonizing Mars and mining asteroids for rare minerals. Simultaneously, robotic missions to planets and moons have uncovered new data, such as evidence of subsurface oceans on Europa and organic molecules on Mars. With the James Webb Space Telescope now delivering breathtaking images of galaxies billions of light-years away, our understanding of the cosmos continues to deepen. However, space exploration is not without its challenges—space debris, high mission costs, and the unknown effects of long-term space travel on human health remain significant concerns. Nonetheless, the pursuit of space exploration symbolizes hope, curiosity, and the unyielding human desire to reach for the stars.\"\"\"\n",
    "\n",
    "summary = generate_summary(text, num_sentences=4)\n",
    "print(\"Summary:\")\n",
    "print(summary)"
   ]
  },
  {
   "cell_type": "markdown",
   "id": "861c0e27",
   "metadata": {},
   "source": [
    "## Model Evaluation (ROUGE)\n",
    "\n",
    "Since summarization isn’t classification, accuracy/precision don’t fit here.\n",
    "We use ROUGE scores — a standard way to check how close our generated summary is to a reference one.\n",
    "Higher ROUGE = better summary quality."
   ]
  },
  {
   "cell_type": "code",
   "execution_count": null,
   "id": "9be2da09",
   "metadata": {},
   "outputs": [
    {
     "name": "stdout",
     "output_type": "stream",
     "text": [
      "Requirement already satisfied: rouge-score in c:\\users\\pratham modi\\appdata\\local\\programs\\python\\python310\\lib\\site-packages (0.1.2)\n",
      "Requirement already satisfied: absl-py in c:\\users\\pratham modi\\appdata\\local\\programs\\python\\python310\\lib\\site-packages (from rouge-score) (2.3.0)\n",
      "Requirement already satisfied: nltk in c:\\users\\pratham modi\\appdata\\local\\programs\\python\\python310\\lib\\site-packages (from rouge-score) (3.9.1)\n",
      "Requirement already satisfied: numpy in c:\\users\\pratham modi\\appdata\\local\\programs\\python\\python310\\lib\\site-packages (from rouge-score) (2.2.6)\n",
      "Requirement already satisfied: six>=1.14.0 in c:\\users\\pratham modi\\appdata\\roaming\\python\\python310\\site-packages (from rouge-score) (1.17.0)\n",
      "Requirement already satisfied: click in c:\\users\\pratham modi\\appdata\\local\\programs\\python\\python310\\lib\\site-packages (from nltk->rouge-score) (8.2.1)\n",
      "Requirement already satisfied: joblib in c:\\users\\pratham modi\\appdata\\local\\programs\\python\\python310\\lib\\site-packages (from nltk->rouge-score) (1.5.1)\n",
      "Requirement already satisfied: regex>=2021.8.3 in c:\\users\\pratham modi\\appdata\\local\\programs\\python\\python310\\lib\\site-packages (from nltk->rouge-score) (2024.11.6)\n",
      "Requirement already satisfied: tqdm in c:\\users\\pratham modi\\appdata\\local\\programs\\python\\python310\\lib\\site-packages (from nltk->rouge-score) (4.67.1)\n",
      "Requirement already satisfied: colorama in c:\\users\\pratham modi\\appdata\\roaming\\python\\python310\\site-packages (from click->nltk->rouge-score) (0.4.6)\n",
      "Note: you may need to restart the kernel to use updated packages.\n",
      "ROUGE Scores: {'rouge1': Score(precision=0.3181818181818182, recall=0.7777777777777778, fmeasure=0.45161290322580644), 'rougeL': Score(precision=0.30303030303030304, recall=0.7407407407407407, fmeasure=0.4301075268817205)}\n"
     ]
    }
   ],
   "source": [
    "%pip install rouge-score\n",
    "\n",
    "from rouge_score import rouge_scorer\n",
    "\n",
    "reference_summary = \"\"\"Machine learning is a field that enables computers to learn without explicit programming.\n",
    "It is widely used in many applications including recommendation systems and self-driving cars.\"\"\"\n",
    "\n",
    "generated_summary = generate_summary(text, num_sentences=4)\n",
    "\n",
    "scorer = rouge_scorer.RougeScorer(['rouge1', 'rougeL'], use_stemmer=True)\n",
    "scores = scorer.score(reference_summary, generated_summary)\n",
    "print(\"ROUGE Scores:\", scores)"
   ]
  }
 ],
 "metadata": {
  "kernelspec": {
   "display_name": "Python 3",
   "language": "python",
   "name": "python3"
  },
  "language_info": {
   "codemirror_mode": {
    "name": "ipython",
    "version": 3
   },
   "file_extension": ".py",
   "mimetype": "text/x-python",
   "name": "python",
   "nbconvert_exporter": "python",
   "pygments_lexer": "ipython3",
   "version": "3.10.0"
  }
 },
 "nbformat": 4,
 "nbformat_minor": 5
}
